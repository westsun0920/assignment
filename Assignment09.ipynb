{
 "cells": [
  {
   "cell_type": "markdown",
   "metadata": {},
   "source": [
    "Student ID : 2017120175\n",
    "\n",
    "Name : Jae-Hong Park"
   ]
  },
  {
   "cell_type": "code",
   "execution_count": 1,
   "metadata": {},
   "outputs": [
    {
     "data": {
      "text/plain": [
       "<Figure size 640x480 with 150 Axes>"
      ]
     },
     "metadata": {},
     "output_type": "display_data"
    },
    {
     "data": {
      "text/plain": [
       "<Figure size 640x480 with 10 Axes>"
      ]
     },
     "metadata": {},
     "output_type": "display_data"
    }
   ],
   "source": [
    "import matplotlib.pyplot as plt\n",
    "import numpy as np\n",
    "\n",
    "file_data_train = \"mnist_train.csv\"\n",
    "file_data_test  = \"mnist_test.csv\"\n",
    "\n",
    "h_data_train    = open(file_data_train, \"r\")\n",
    "h_data_test     = open(file_data_test, \"r\")\n",
    "\n",
    "data_train      = h_data_train.readlines()\n",
    "data_test       = h_data_test.readlines()\n",
    "\n",
    "h_data_train.close()\n",
    "h_data_test.close()\n",
    "\n",
    "size_row    = 28    # height of the image\n",
    "size_col    = 28    # width of the image\n",
    "\n",
    "num_train   = len(data_train)   # number of training images\n",
    "num_test    = len(data_test)    # number of testing images\n",
    "\n",
    "#\n",
    "# normalize the values of the input data to be [0, 1]\n",
    "#\n",
    "def normalize(data):\n",
    "\n",
    "    data_normalized = (data - min(data)) / (max(data) - min(data))\n",
    "\n",
    "    return(data_normalized)\n",
    "\n",
    "#\n",
    "# example of distance function between two vectors x and y\n",
    "#\n",
    "def distance(x, y):\n",
    "\n",
    "    d = (x - y) ** 2\n",
    "    s = np.sum(d)\n",
    "    # r = np.sqrt(s)\n",
    "\n",
    "    return(s)\n",
    "\n",
    "#\n",
    "# make a matrix each column of which represents an images in a vector form \n",
    "#\n",
    "list_image_train    = np.empty((size_row * size_col, num_train), dtype=float)\n",
    "list_label_train    = np.empty(num_train, dtype=int)\n",
    "real_train_label    = np.empty(num_train, dtype=int)\n",
    "\n",
    "list_image_test     = np.empty((size_row * size_col, num_test), dtype=float)\n",
    "list_label_test     = np.empty(num_test, dtype=int)\n",
    "\n",
    "count = 0\n",
    "\n",
    "for line in data_train:\n",
    "\n",
    "    line_data   = line.split(',')\n",
    "    label       = line_data[0]\n",
    "    im_vector   = np.asfarray(line_data[1:])\n",
    "    im_vector   = normalize(im_vector)\n",
    "\n",
    "    list_label_train[count]     = label\n",
    "    list_image_train[:, count]  = im_vector    \n",
    "\n",
    "    count += 1\n",
    "\n",
    "count = 0\n",
    "\n",
    "for line in data_test:\n",
    "\n",
    "    line_data   = line.split(',')\n",
    "    label       = line_data[0]\n",
    "    im_vector   = np.asfarray(line_data[1:])\n",
    "    im_vector   = normalize(im_vector)\n",
    "\n",
    "    list_label_test[count]      = label\n",
    "    list_image_test[:, count]   = im_vector    \n",
    "\n",
    "    count += 1\n",
    "    \n",
    "# \n",
    "# plot first 150 images out of 10,000 with their labels\n",
    "# \n",
    "f1 = plt.figure(1)\n",
    "\n",
    "for i in range(150):\n",
    "\n",
    "    label       = list_label_train[i]\n",
    "    im_vector   = list_image_train[:, i]\n",
    "    im_matrix   = im_vector.reshape((size_row, size_col))\n",
    "\n",
    "    plt.subplot(10, 15, i+1)\n",
    "    plt.title(label)\n",
    "    plt.imshow(im_matrix, cmap='Greys', interpolation='None')\n",
    "\n",
    "    frame   = plt.gca()\n",
    "    frame.axes.get_xaxis().set_visible(False)\n",
    "    frame.axes.get_yaxis().set_visible(False)\n",
    "\n",
    "#plt.show()\n",
    "\n",
    "#\n",
    "# plot the average image of all the images for each digit\n",
    "#\n",
    "f2 = plt.figure(2)\n",
    "\n",
    "im_average  = np.zeros((size_row * size_col, 10), dtype=float)\n",
    "im_count    = np.zeros(10, dtype=int)\n",
    "\n",
    "for i in range(num_train):\n",
    "\n",
    "    im_average[:, list_label_train[i]] += list_image_train[:, i]\n",
    "    im_count[list_label_train[i]] += 1\n",
    "\n",
    "for i in range(10):\n",
    "\n",
    "    im_average[:, i] /= im_count[i]\n",
    "    \n",
    "    plt.subplot(2, 5, i+1)\n",
    "    plt.title(i)\n",
    "    plt.imshow(im_average[:,i].reshape((size_row, size_col)), cmap='Greys', interpolation='None') \n",
    "\n",
    "    frame   = plt.gca()\n",
    "    frame.axes.get_xaxis().set_visible(False)\n",
    "    frame.axes.get_yaxis().set_visible(False)\n",
    "\n",
    "plt.show()"
   ]
  },
  {
   "cell_type": "code",
   "execution_count": 2,
   "metadata": {},
   "outputs": [],
   "source": [
    "from scipy import signal\n",
    "def convol(mat):\n",
    "    mat = mat.reshape((size_row, size_col))\n",
    "    filter = []\n",
    "    kernel1 = np.array([[1,1,1],[0,0,0],[0,0,0]])\n",
    "    kernel2 = np.array([[0,0,0],[1,1,1],[0,0,0]])\n",
    "    kernel3 = np.array([[0,0,0],[0,0,0],[1,1,1]])\n",
    "    kernel4 = np.array([[1,0,0],[1,0,0],[1,0,0]])\n",
    "    kernel5 = np.array([[0,1,0],[0,1,0],[0,1,0]])\n",
    "    kernel6 = np.array([[0,0,1],[0,0,1],[0,0,1]])\n",
    "    feat1 = signal.convolve2d(mat, kernel1, boundary='symm', mode='same')\n",
    "    feat2 = signal.convolve2d(mat, kernel2, boundary='symm', mode='same')\n",
    "    feat3 = signal.convolve2d(mat, kernel3, boundary='symm', mode='same')                   \n",
    "    feat4 = signal.convolve2d(mat, kernel4, boundary='symm', mode='same')                   \n",
    "    feat5 = signal.convolve2d(mat, kernel5, boundary='symm', mode='same')                   \n",
    "    feat6 = signal.convolve2d(mat, kernel6, boundary='symm', mode='same')                   \n",
    "    filter = (np.mean(feat1), np.mean(feat2), np.mean(feat3), np.mean(feat4), np.mean(feat5), np.mean(feat6))\n",
    "    return filter"
   ]
  },
  {
   "cell_type": "markdown",
   "metadata": {},
   "source": [
    "# Processing Singular"
   ]
  },
  {
   "cell_type": "code",
   "execution_count": 3,
   "metadata": {},
   "outputs": [],
   "source": [
    "myProcessingmatrix = []\n",
    "for i in range(len(list_image_train.T)):\n",
    "    mat = convol(list_image_train.T[i])\n",
    "    myProcessingmatrix.append(mat)\n",
    "myProcessingmatrix_test = []\n",
    "for i in range(len(list_image_test.T)):\n",
    "    mat2 = convol(list_image_test.T[i])\n",
    "    myProcessingmatrix_test.append(mat2)"
   ]
  },
  {
   "cell_type": "markdown",
   "metadata": {},
   "source": [
    "# Y change the 값 for Binary Classifying"
   ]
  },
  {
   "cell_type": "code",
   "execution_count": 4,
   "metadata": {},
   "outputs": [],
   "source": [
    "for i in range(len(list_label_train)):\n",
    "    if(int(list_label_train[i]) == 0):\n",
    "        list_label_train[i] = 1\n",
    "    else:\n",
    "        list_label_train[i] = -1\n",
    "for i in range(len(list_label_test)):\n",
    "    if(int(list_label_test[i]) == 0):\n",
    "        list_label_test[i] = 1\n",
    "    else:\n",
    "        list_label_test[i] = -1"
   ]
  },
  {
   "cell_type": "markdown",
   "metadata": {},
   "source": [
    "# make feature"
   ]
  },
  {
   "cell_type": "code",
   "execution_count": 5,
   "metadata": {},
   "outputs": [],
   "source": [
    "mu, sigma = 0, 1; featureFunc = []\n",
    "r = np.random.normal(mu, sigma, 6)\n",
    "for i in range(0, len(myProcessingmatrix)): # make 9 feature\n",
    "    fe = r*myProcessingmatrix[i]\n",
    "    featureFunc.append(fe)\n",
    "featureFunc = np.mat(featureFunc)   "
   ]
  },
  {
   "cell_type": "markdown",
   "metadata": {},
   "source": [
    "# Least Square Approximation: $ W = (X^T X)^{-1} X^T y $ "
   ]
  },
  {
   "cell_type": "code",
   "execution_count": 6,
   "metadata": {},
   "outputs": [],
   "source": [
    "def computeApproximation(vecX,vecY):\n",
    "    vecX = np.mat(vecX)\n",
    "    vecY = np.mat(vecY).T\n",
    "    xTx = vecX.T * vecX\n",
    "    if(np.linalg.det(xTx) == 0.0): # if Singular function, return \n",
    "        print(\"This matrix is singular\")\n",
    "        return\n",
    "    weight = xTx.I * (vecX.T * vecY) # weight\n",
    "    return weight"
   ]
  },
  {
   "cell_type": "code",
   "execution_count": 7,
   "metadata": {},
   "outputs": [],
   "source": [
    "weight = computeApproximation(featureFunc, list_label_train)"
   ]
  },
  {
   "cell_type": "code",
   "execution_count": 8,
   "metadata": {},
   "outputs": [],
   "source": [
    "trainY = myProcessingmatrix_test*weight"
   ]
  },
  {
   "cell_type": "markdown",
   "metadata": {},
   "source": [
    "# Binary Classification"
   ]
  },
  {
   "cell_type": "code",
   "execution_count": 9,
   "metadata": {},
   "outputs": [],
   "source": [
    "def binaryClassifier(data, X, Y):\n",
    "    FN = []; FP = []; TN = []; TP = []\n",
    "    for i in range(0, len(data)):\n",
    "        if(float(data[i]) > 0):\n",
    "            if(int(Y[i]) == 1):\n",
    "                TP.append(X[i])\n",
    "            else:\n",
    "                FP.append(X[i])\n",
    "        else:\n",
    "            if(int(Y[i]) == 1):\n",
    "                FN.append(X[i])\n",
    "            else:\n",
    "                TN.append(X[i])\n",
    "    return FN, FP, TN, TP"
   ]
  },
  {
   "cell_type": "code",
   "execution_count": 10,
   "metadata": {},
   "outputs": [],
   "source": [
    "FN, FP, TN, TP = binaryClassifier(trainY, list_image_test.T, list_label_test)"
   ]
  },
  {
   "cell_type": "markdown",
   "metadata": {},
   "source": [
    "# Compute Accuracy"
   ]
  },
  {
   "cell_type": "code",
   "execution_count": 11,
   "metadata": {},
   "outputs": [
    {
     "name": "stdout",
     "output_type": "stream",
     "text": [
      "90.2\n",
      "0\n"
     ]
    }
   ],
   "source": [
    "accuracy = ((len(TN)+len(TP))/10000)*100\n",
    "print(accuracy)\n",
    "if((len(TP)+len(FP)) != 0):\n",
    "    precision = 2*(len(TP))/(len(TP)+len(FP))\n",
    "else:\n",
    "    precision = 0\n",
    "recall = len(TP)/(len(FN)+len(TP))\n",
    "if((precision+recall) != 0):\n",
    "    f1 = 2*(precision*recall)/(precision+recall)\n",
    "else: f1 = 0\n",
    "print(f1)"
   ]
  },
  {
   "cell_type": "code",
   "execution_count": 12,
   "metadata": {},
   "outputs": [
    {
     "name": "stdout",
     "output_type": "stream",
     "text": [
      "9020\n"
     ]
    }
   ],
   "source": [
    "print(len(TN))"
   ]
  },
  {
   "cell_type": "markdown",
   "metadata": {},
   "source": [
    "# Compute Average FN, FP, TN, TP"
   ]
  },
  {
   "cell_type": "code",
   "execution_count": 13,
   "metadata": {},
   "outputs": [],
   "source": [
    "def computeMin(vec):\n",
    "    vec = np.mat(vec)\n",
    "    mean_ = np.mean(vec, axis=0)\n",
    "    return mean_"
   ]
  },
  {
   "cell_type": "markdown",
   "metadata": {},
   "source": [
    "# Visualization "
   ]
  },
  {
   "cell_type": "code",
   "execution_count": 14,
   "metadata": {},
   "outputs": [
    {
     "ename": "ValueError",
     "evalue": "cannot reshape array of size 0 into shape (28,28)",
     "output_type": "error",
     "traceback": [
      "\u001b[1;31m---------------------------------------------------------------------------\u001b[0m",
      "\u001b[1;31mValueError\u001b[0m                                Traceback (most recent call last)",
      "\u001b[1;32m<ipython-input-14-901fca84c2cf>\u001b[0m in \u001b[0;36m<module>\u001b[1;34m()\u001b[0m\n\u001b[0;32m     20\u001b[0m \u001b[0mP3\u001b[0m\u001b[1;33m.\u001b[0m\u001b[0mset_title\u001b[0m\u001b[1;33m(\u001b[0m\u001b[1;34m'False Positive'\u001b[0m\u001b[1;33m)\u001b[0m\u001b[1;33m\u001b[0m\u001b[0m\n\u001b[0;32m     21\u001b[0m \u001b[0mim_average\u001b[0m \u001b[1;33m=\u001b[0m \u001b[0mcomputeMin\u001b[0m\u001b[1;33m(\u001b[0m\u001b[0mFP\u001b[0m\u001b[1;33m)\u001b[0m\u001b[1;33m\u001b[0m\u001b[0m\n\u001b[1;32m---> 22\u001b[1;33m \u001b[0mplt\u001b[0m\u001b[1;33m.\u001b[0m\u001b[0mimshow\u001b[0m\u001b[1;33m(\u001b[0m\u001b[0mim_average\u001b[0m\u001b[1;33m.\u001b[0m\u001b[0mreshape\u001b[0m\u001b[1;33m(\u001b[0m\u001b[1;33m(\u001b[0m\u001b[0msize_row\u001b[0m\u001b[1;33m,\u001b[0m \u001b[0msize_col\u001b[0m\u001b[1;33m)\u001b[0m\u001b[1;33m)\u001b[0m\u001b[1;33m,\u001b[0m \u001b[0mcmap\u001b[0m\u001b[1;33m=\u001b[0m\u001b[1;34m'Greys'\u001b[0m\u001b[1;33m,\u001b[0m \u001b[0minterpolation\u001b[0m\u001b[1;33m=\u001b[0m\u001b[1;34m'None'\u001b[0m\u001b[1;33m)\u001b[0m\u001b[1;33m\u001b[0m\u001b[0m\n\u001b[0m\u001b[0;32m     23\u001b[0m \u001b[0mplt\u001b[0m\u001b[1;33m.\u001b[0m\u001b[0maxis\u001b[0m\u001b[1;33m(\u001b[0m\u001b[1;34m'off'\u001b[0m\u001b[1;33m)\u001b[0m\u001b[1;33m\u001b[0m\u001b[0m\n\u001b[0;32m     24\u001b[0m \u001b[1;33m\u001b[0m\u001b[0m\n",
      "\u001b[1;31mValueError\u001b[0m: cannot reshape array of size 0 into shape (28,28)"
     ]
    },
    {
     "data": {
      "image/png": "[encoded data removed]",
      "text/plain": [
       "<Figure size 432x288 with 3 Axes>"
      ]
     },
     "metadata": {},
     "output_type": "display_data"
    }
   ],
   "source": [
    "f2 = plt.figure(2)\n",
    "\n",
    "im_average  = np.zeros((size_row * size_col, 10), dtype=float)\n",
    "im_count    = np.zeros(10, dtype=int)\n",
    "\n",
    "\n",
    "P1 = plt.subplot(2, 2, 1)\n",
    "P1.set_title('False Negative')\n",
    "im_average = computeMin(FN)\n",
    "plt.imshow(im_average.reshape((size_row, size_col)), cmap='Greys', interpolation='None') \n",
    "plt.axis('off')\n",
    "\n",
    "P2 = plt.subplot(2, 2, 2)\n",
    "P2.set_title('True Negative')\n",
    "im_average = computeMin(TN)\n",
    "plt.imshow(im_average.reshape((size_row, size_col)), cmap='Greys', interpolation='None') \n",
    "plt.axis('off')\n",
    "\n",
    "P3 = plt.subplot(2, 2, 3)\n",
    "P3.set_title('False Positive')\n",
    "im_average = computeMin(FP)\n",
    "plt.imshow(im_average.reshape((size_row, size_col)), cmap='Greys', interpolation='None') \n",
    "plt.axis('off')\n",
    "\n",
    "P4 = plt.subplot(2, 2, 4)\n",
    "P4.set_title('True Positive')\n",
    "im_average = computeMin(TP)\n",
    "plt.imshow(im_average.reshape((size_row, size_col)), cmap='Greys', interpolation='None') \n",
    "plt.axis('off')"
   ]
  },
  {
   "cell_type": "code",
   "execution_count": null,
   "metadata": {},
   "outputs": [],
   "source": []
  }
 ],
 "metadata": {
  "kernelspec": {
   "display_name": "Python 3",
   "language": "python",
   "name": "python3"
  },
  "language_info": {
   "codemirror_mode": {
    "name": "ipython",
    "version": 3
   },
   "file_extension": ".py",
   "mimetype": "text/x-python",
   "name": "python",
   "nbconvert_exporter": "python",
   "pygments_lexer": "ipython3",
   "version": "3.6.5"
  }
 },
 "nbformat": 4,
 "nbformat_minor": 2
}
